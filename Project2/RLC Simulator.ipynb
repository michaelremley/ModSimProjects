{
 "cells": [
  {
   "cell_type": "markdown",
   "metadata": {},
   "source": [
    "# RLC Circuit Simulator\n",
    "By: Michael Remley and Shashank Swaminathan\n",
    "\n",
    "Simulates the effect of an inductor in series with a capacitor and resistor in parallel on a rectified waveform input."
   ]
  },
  {
   "cell_type": "code",
   "execution_count": 2,
   "metadata": {},
   "outputs": [],
   "source": [
    "# Configure Jupyter so figures appear in the notebook\n",
    "%matplotlib inline\n",
    "\n",
    "# Configure Jupyter to display the assigned value after an assignment\n",
    "%config InteractiveShell.ast_node_interactivity='last_expr_or_assign'\n",
    "\n",
    "# import functions from the modsim.py module\n",
    "from modsim import *\n",
    "\n",
    "from scipy import signal\n",
    "from sympy import plot as syplot"
   ]
  },
  {
   "cell_type": "code",
   "execution_count": 3,
   "metadata": {},
   "outputs": [],
   "source": [
    "def make_system(params,t_0,t_end, supply_func):\n",
    "    \"\"\"Make a system object for the RLEV model.\n",
    "    \n",
    "    params(R, L, C): Circuit component values\n",
    "    \n",
    "    t_0: Beginning time in seconds\n",
    "    t_end: Ending time in seconds\n",
    "    \n",
    "    returns: System object\n",
    "    \"\"\"\n",
    "    # Start with initial zero conditions\n",
    "    init = State(Vout=0,dVoutdt=0)\n",
    "    \n",
    "    #Get our input waveform function\n",
    "    Vin = supply_func\n",
    "    \n",
    "    #Get our parameters\n",
    "    R,L,C = params    \n",
    "\n",
    "    return System(R=R, L=L, C=C, Vin = Vin,\n",
    "                  t_0=t_0, t_end=t_end, init=init)"
   ]
  },
  {
   "cell_type": "code",
   "execution_count": 4,
   "metadata": {},
   "outputs": [],
   "source": [
    "def sine_wave(frequency = 1, A_rms = 1):\n",
    "    \"\"\"\n",
    "    Return a sine wave with passed frequency (Hz) and amplitude (Volts)\n",
    "        t: Single value representing time, or array of time steps\n",
    "        A: Amplitude default 1\n",
    "    Returns:\n",
    "        The function of a sine wave with the given parameters\n",
    "    \"\"\"\n",
    "    def v_sine(t, omega = 2 * pi * frequency, A = A_rms * sqrt(2), ):\n",
    "        return A * np.sin(omega * t)\n",
    "    \n",
    "    return v_sine\n",
    "\n",
    "def square_wave(frequency = 1, A_rms = 1):\n",
    "    \"\"\"\n",
    "    Return a square wave with passed frequency (Hz) and amplitude (Volts)\n",
    "        t: Single value representing time, or array of time steps\n",
    "        A: Amplitude of the sine wave, assumed equal to 1\n",
    "    Returns:\n",
    "        The function of a standard sine wave A*sin(w*t+phi) with the given parameters\n",
    "    \"\"\"\n",
    "    def v_square(t, omega = 2 * pi * frequency, A = A_rms * 1):\n",
    "        return A * signal.square(omega * t)\n",
    "    \n",
    "    return v_square\n",
    "\n",
    "def sawtooth_wave(frequency = 1, A_rms=1):\n",
    "    \"\"\"\n",
    "    Return a sawtooth wave with passed frequency (Hz) and amplitude (Volts)\n",
    "        t: Single value representing time, or array of time steps\n",
    "        A: Amplitude of the sine wave, assumed equal to 1\n",
    "    Returns:\n",
    "        The function of a standard sine wave A*sin(w*t+phi) with the given parameters\n",
    "    \"\"\"\n",
    "    def v_square(t, omega = 2 * pi * frequency, A = A_rms * sqrt(3)):\n",
    "        return A * signal.sawtooth(omega * t)\n",
    "    \n",
    "    return v_square\n",
    "\n",
    "def triangle_wave(frequency = 1, A_rms=1):\n",
    "    \"\"\"\n",
    "    Return a triangle wave with passed frequency (Hz) and amplitude (Volts)\n",
    "        t: Single value representing time, or array of time steps\n",
    "        A: Amplitude of the sine wave, assumed equal to 1\n",
    "    Returns:\n",
    "        The function of a standard sine wave A*sin(w*t+phi) with the given parameters\n",
    "    \"\"\"\n",
    "    def v_triangle(t, omega = 2*pi*frequency, A = A_rms * sqrt(3)):\n",
    "        return A * signal.sawtooth(omega * t,0.5)\n",
    "    \n",
    "    return v_triangle"
   ]
  },
  {
   "cell_type": "code",
   "execution_count": 5,
   "metadata": {},
   "outputs": [],
   "source": [
    "def slope_func(state, t, system):\n",
    "    \"\"\"Calculate the slopes.\n",
    "    \n",
    "    state: State (Vout, dVoutdt)\n",
    "    t: time\n",
    "    system: System object\n",
    "    \n",
    "    returns: State (dVoutdt, d2Voutdt2)\n",
    "    \"\"\"\n",
    "    #Get local variables\n",
    "    Vout, dVoutdt = state\n",
    "    unpack(system)\n",
    "    \n",
    "    #Calculate slopes according to our equations\n",
    "    d2Voutdt2 = 1/(L*C) * (abs(Vin(t)) - (L/R)*dVoutdt - Vout)\n",
    "    dVoutdt = (R/L) * (abs(Vin(t)) - (L*C)*d2Voutdt2 - Vout)\n",
    "    \n",
    "    return dVoutdt, d2Voutdt2\n",
    "def slope_func2(state, t, system):\n",
    "    \"\"\"Calculate the slopes.\n",
    "    \n",
    "    state: State (Vout, dVoutdt)\n",
    "    t: time\n",
    "    system: System object\n",
    "    \n",
    "    returns: State (dVoutdt, d2Voutdt2)\n",
    "    \"\"\"\n",
    "    #Get local variables\n",
    "    Vout, dVoutdt = state\n",
    "    unpack(system)\n",
    "    \n",
    "    #Calculate slopes according to our equations\n",
    "    d2Voutdt2 = 1/(L*C) * (abs(Vin(t)) - (L/R)*dVoutdt - Vout)\n",
    "    \n",
    "    return dVoutdt, d2Voutdt2"
   ]
  },
  {
   "cell_type": "code",
   "execution_count": 6,
   "metadata": {},
   "outputs": [],
   "source": [
    "def run_simulation(input_waveform,slope_function):\n",
    "    # Set paramters\n",
    "    params = Params(R=1,L=1,C=1)\n",
    "    result = TimeSeries()\n",
    "    \n",
    "    # Make the system\n",
    "    system = make_system(params,0,20,input_waveform)\n",
    "\n",
    "    # Run the simulation and display the time taken and success\n",
    "    results, details = run_ode_solver(system,slope_function,max_step=1e-4);\n",
    "    result = results.Vout\n",
    "    return result"
   ]
  },
  {
   "cell_type": "code",
   "execution_count": 7,
   "metadata": {
    "scrolled": true
   },
   "outputs": [
    {
     "name": "stdout",
     "output_type": "stream",
     "text": [
      "Wall time: 1min 43s\n",
      "Wall time: 1min 37s\n"
     ]
    }
   ],
   "source": [
    "input_waveforms = [\n",
    "    sine_wave(60,120),\n",
    "    square_wave(60,120),\n",
    "    sawtooth_wave(60,120),\n",
    "    triangle_wave(60,120),\n",
    "]\n",
    "%time results1 = run_simulation(input_waveforms[0],slope_func)\n",
    "%time results2 = run_simulation(input_waveforms[0],slope_func2)"
   ]
  },
  {
   "cell_type": "code",
   "execution_count": 8,
   "metadata": {},
   "outputs": [
    {
     "data": {
      "text/plain": [
       "[<matplotlib.lines.Line2D at 0x1f138b7fc18>]"
      ]
     },
     "execution_count": 8,
     "metadata": {},
     "output_type": "execute_result"
    },
    {
     "data": {
      "image/png": "[encoded data removed]",
      "text/plain": [
       "<Figure size 432x288 with 1 Axes>"
      ]
     },
     "metadata": {
      "needs_background": "light"
     },
     "output_type": "display_data"
    }
   ],
   "source": [
    "plot(results1,'-',label='Mine')\n",
    "plot(results2, ':',label='Regular')\n",
    "\n"
   ]
  },
  {
   "cell_type": "code",
   "execution_count": 12,
   "metadata": {},
   "outputs": [
    {
     "data": {
      "text/plain": [
       "[<matplotlib.lines.Line2D at 0x1f1392ab8d0>]"
      ]
     },
     "execution_count": 12,
     "metadata": {},
     "output_type": "execute_result"
    },
    {
     "data": {
      "image/png": "[encoded data removed]",
      "text/plain": [
       "<Figure size 432x288 with 1 Axes>"
      ]
     },
     "metadata": {
      "needs_background": "light"
     },
     "output_type": "display_data"
    }
   ],
   "source": [
    "plot(results1 - results2)\n"
   ]
  },
  {
   "cell_type": "code",
   "execution_count": null,
   "metadata": {},
   "outputs": [],
   "source": []
  }
 ],
 "metadata": {
  "kernelspec": {
   "display_name": "Python 3",
   "language": "python",
   "name": "python3"
  },
  "language_info": {
   "codemirror_mode": {
    "name": "ipython",
    "version": 3
   },
   "file_extension": ".py",
   "mimetype": "text/x-python",
   "name": "python",
   "nbconvert_exporter": "python",
   "pygments_lexer": "ipython3",
   "version": "3.6.6"
  }
 },
 "nbformat": 4,
 "nbformat_minor": 2
}
