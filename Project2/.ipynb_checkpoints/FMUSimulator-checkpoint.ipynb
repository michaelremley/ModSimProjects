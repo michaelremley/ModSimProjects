{
 "metadata": {
  "name": "",
  "signature": "sha256:26980e96c0576dbbcbefa2eb179584e959c7a3190fe4573dfa5edd9ba5d0a35a"
 },
 "nbformat": 3,
 "nbformat_minor": 0,
 "worksheets": [
  {
   "cells": [
    {
     "cell_type": "code",
     "collapsed": false,
     "input": [
      "import matplotlib.pyplot as plt\n",
      "import numpy as np\n",
      "import pandas as pd\n",
      "from pyfmi import load_fmu\n",
      "import scipy.signal as sigw"
     ],
     "language": "python",
     "metadata": {},
     "outputs": [],
     "prompt_number": 1
    },
    {
     "cell_type": "code",
     "collapsed": false,
     "input": [
      "%matplotlib inline"
     ],
     "language": "python",
     "metadata": {},
     "outputs": [],
     "prompt_number": 2
    },
    {
     "cell_type": "code",
     "collapsed": false,
     "input": [
      "def v_source_func(wave_type = \"sine\", frequency = 1, A_rms = 1, phi = 0):\n",
      "    \"\"\"\n",
      "    Defines the source voltage function as a sinusoidal wave changing with respect to time\n",
      "    Parameters:\n",
      "        wave_type: Type of waveform profile desired for source voltage function\n",
      "        frequency: Frequency of wave in Hz\n",
      "        A_rms: RMS Amplitude of source voltage wave, in V\n",
      "        phi: Phase shift for source voltage wave - only used for sine wave - in radians\n",
      "    Returns:\n",
      "        Source voltage function of general form A*wave(w*t), adhering to the provided parameters\n",
      "    \"\"\"\n",
      "    \n",
      "    def v_sine(t, omega = 2 * np.pi * frequency, A = A_rms / np.sqrt(2), phi = phi):\n",
      "        \"\"\"\n",
      "        Return a sine wave with passed frequency (Hz) and amplitude (Volts)\n",
      "        Parameters:\n",
      "            t: Single value representing time, or array of time steps\n",
      "            A: Amplitude of the sine wave, assumed equal to 1 V\n",
      "            omega: Frequency of the sine wave, assumed equal to 1 Hz\n",
      "            phi: Phase shift of the wave, assumed equal to 0\n",
      "        Returns:\n",
      "            The function of a standard sine wave A*sin(w*t+phi) with the given parameters\n",
      "        \"\"\"\n",
      "        return A * np.sin(omega * t + phi)\n",
      "\n",
      "    def v_square(t, omega = 2 * np.pi * frequency, A = A_rms / 1):\n",
      "        \"\"\"\n",
      "        Return a square wave with passed frequency (Hz) and amplitude (Volts)\n",
      "            t: Single value representing time, or array of time steps\n",
      "            A: Amplitude of the square wave, assumed equal to 1 V\n",
      "            omega: Frequency of the square wave, assumed equal to 1 Hz\n",
      "        Returns:\n",
      "            The function of a standard square wave A*square(w*t) with the given parameters\n",
      "        \"\"\"\n",
      "        return A * sigw.square(omega * t)\n",
      "\n",
      "    def v_sawtooth(t, omega = 2 * np.pi * frequency, A = A_rms / np.sqrt(3)):\n",
      "        \"\"\"\n",
      "        Return a sawtooth wave with passed frequency (Hz) and amplitude (Volts)\n",
      "            t: Single value representing time, or array of time steps\n",
      "            A: Amplitude of the sawtooth wave, assumed equal to 1 V\n",
      "            omega: Frequency of the sawtooth wave, assumed equal to 1 Hz\n",
      "        Returns:\n",
      "            The function of a standard sawtooth wave A*sawtooth(w*t) with the given parameters\n",
      "        \"\"\"\n",
      "        return A * sigw.sawtooth(omega * t)\n",
      "\n",
      "    def v_triangle(t, omega = 2 * np.pi * frequency, A = A_rms / np.sqrt(3)):\n",
      "        \"\"\"\n",
      "        Return a triangle wave with passed frequency (Hz) and amplitude (Volts)\n",
      "            t: Single value representing time, or array of time steps\n",
      "            A: Amplitude of the triangle wave, assumed equal to 1 V\n",
      "            omega: Frequency of the triangle wave, assumed equal to 1 Hz\n",
      "        Returns:\n",
      "            The function of a standard triangle wave A*triangle(w*t) with the given parameters\n",
      "        \"\"\"\n",
      "        return A * sigw.sawtooth(omega * t,0.5)\n",
      "    \n",
      "    waveforms = {\"sine\":v_sine, \"square\":v_square, \"sawtooth\":v_sawtooth, \"triangle\":v_triangle}\n",
      "    \n",
      "    try:\n",
      "        return waveforms[wave_type]\n",
      "    except:\n",
      "        print('Argument error. Specifiy either sine, square, triangle, or sawtooth.')"
     ],
     "language": "python",
     "metadata": {},
     "outputs": [],
     "prompt_number": 3
    },
    {
     "cell_type": "code",
     "collapsed": false,
     "input": [
      "def run_input_FMU(waveform, t_end, R = 1, L = 1, C = 1):\n",
      "    \"\"\"\n",
      "    Runs the Modelica model ModelicaModels.FullWaveRectifiers.InputRLCBridgeRectifier\n",
      "    Takes R, L, and C as inputs for the load resistance, inductance, and capacitance of the rectifier\n",
      "    \"\"\"\n",
      "    mmodel = load_fmu('/home/sswaminathan/olin_share/ModSim/ModSimProjects/Project2/' + \\\n",
      "                      'ModelicaModels/FullWaveRectifiers/./ModelicaModels_FullWaveRectifiers_InputRLCBridgeRectifier.fmu')\n",
      "    mmodel.set('load.R', R)\n",
      "    mmodel.set('inductor.L', L)\n",
      "    mmodel.set('capacitor.C', C)\n",
      "    \n",
      "    v_s = v_source_func(wave_type = waveform, frequency = 60, A_rms = 120, phi = 0)\n",
      "    input_object = ('u', v_s)\n",
      "    \n",
      "    res = mmodel.simulate(final_time = t_end, input=input_object)\n",
      "    \n",
      "    v_c = pd.Series(res['capacitor.v'], index=res['time'])\n",
      "    i = pd.Series(res['inductor.i'], index=res['time'])\n",
      "    \n",
      "    return v_c, i"
     ],
     "language": "python",
     "metadata": {},
     "outputs": [],
     "prompt_number": 4
    },
    {
     "cell_type": "code",
     "collapsed": false,
     "input": [
      "def simulate_FMU(input_waveforms, t_end = 15, R = 1, L = 1, C = 1):\n",
      "    \n",
      "    # Define output DataFrame object\n",
      "    output = pd.DataFrame(index = input_waveforms, columns = ['Vout', 'I'])\n",
      "    \n",
      "    # Create convenience variable for properly labeling the output\n",
      "    iw_label_no = pd.Series(np.linspace(0, len(input_waveforms)-1, len(input_waveforms), dtype = int),\n",
      "                            index = input_waveforms)\n",
      "    \n",
      "    for i in input_waveforms:\n",
      "        # Run the simulation and display the time taken and success\n",
      "        output.iloc[iw_label_no[i]] = run_input_FMU(i, t_end = t_end, R=R, L=L, C=C);\n",
      "    return output"
     ],
     "language": "python",
     "metadata": {},
     "outputs": [],
     "prompt_number": 11
    },
    {
     "cell_type": "code",
     "collapsed": false,
     "input": [
      "def plot_results(results):\n",
      "    \"\"\"\n",
      "    Plot results provided. Assumes that there only two state variables in model system.\n",
      "    Parameter:\n",
      "        results: Simulation results. Follows type returned by run_simulation\n",
      "    Returns:\n",
      "        None\n",
      "    Plots:\n",
      "        Two graphs, for each state. Plots results from each waveform run on same graph per state.\n",
      "    \"\"\"\n",
      "    \n",
      "    # Plot data\n",
      "    for i in np.linspace(0,len(responses)-1, len(responses), dtype=int):\n",
      "        plt.figure(1)\n",
      "        responses.iloc[i][0].plot()\n",
      "        \n",
      "        plt.figure(2)\n",
      "        responses.iloc[i][1].plot()\n",
      "        \n",
      "    # Extract name of first and second states\n",
      "    first_state_name = \"Vout\"\n",
      "    second_state_name = \"I\"\n",
      "    \n",
      "    # Label graph of first state\n",
      "    plt.figure(1)\n",
      "    plt.title(\"Comparison of \" + first_state_name + \"'s transient response over time\")\n",
      "    plt.ylabel(first_state_name)\n",
      "    plt.xlabel('Time (s)')\n",
      "    plt.legend(results.index)\n",
      "    \n",
      "    # Label graph of second state\n",
      "    plt.figure(2)\n",
      "    plt.title(\"Comparison of \" + second_state_name + \"'s transient response over time\")\n",
      "    plt.ylabel(second_state_name)\n",
      "    plt.xlabel('Time (s)')\n",
      "    plt.legend(results.index)"
     ],
     "language": "python",
     "metadata": {},
     "outputs": [],
     "prompt_number": 12
    },
    {
     "cell_type": "code",
     "collapsed": false,
     "input": [
      "input_waveforms = [\"sine\", \"square\", \"sawtooth\", \"triangle\"]\n",
      "responses = simulate_FMU(input_waveforms)"
     ],
     "language": "python",
     "metadata": {},
     "outputs": [
      {
       "output_type": "stream",
       "stream": "stdout",
       "text": [
        " Integrator time: 8.775353e+00\r"
       ]
      },
      {
       "output_type": "stream",
       "stream": "stdout",
       "text": [
        "Final Run Statistics: --- \n",
        "\n",
        " Number of steps                                 : 53890\n",
        " Number of function evaluations                  : 97504\n",
        " Number of Jacobian evaluations                  : 3602\n",
        " Number of function eval. due to Jacobian eval.  : 7204\n",
        " Number of error test failures                   : 6855\n",
        " Number of nonlinear iterations                  : 83101\n",
        " Number of nonlinear convergence failures        : 0\n",
        " Number of state function evaluations            : 83907\n",
        " Number of state events                          : 3600\n",
        "\n",
        "Solver options:\n",
        "\n",
        " Solver                   : CVode\n",
        " Linear multistep method  : BDF\n",
        " Nonlinear solver         : Newton\n",
        " Linear solver type       : DENSE\n",
        " Maximal order            : 5\n",
        " Tolerances (absolute)    : 1e-08\n",
        " Tolerances (relative)    : 1e-06\n",
        "\n",
        "Simulation interval    : 0.0 - 15.0 seconds.\n",
        "Elapsed simulation time: 16.9600450993 seconds.\n",
        "Final Run Statistics: --- "
       ]
      },
      {
       "output_type": "stream",
       "stream": "stdout",
       "text": [
        "\n",
        "\n",
        " Number of steps                                 : 20081\n",
        " Number of function evaluations                  : 55094\n",
        " Number of Jacobian evaluations                  : 1375\n",
        " Number of function eval. due to Jacobian eval.  : 2750\n",
        " Number of error test failures                   : 13615\n",
        " Number of nonlinear iterations                  : 49926\n",
        " Number of nonlinear convergence failures        : 0\n",
        " Number of state function evaluations            : 53873\n",
        " Number of state events                          : 1233\n",
        "\n",
        "Solver options:\n",
        "\n",
        " Solver                   : CVode\n",
        " Linear multistep method  : BDF\n",
        " Nonlinear solver         : Newton\n",
        " Linear solver type       : DENSE\n",
        " Maximal order            : 5\n",
        " Tolerances (absolute)    : 1e-08\n",
        " Tolerances (relative)    : 1e-06\n",
        "\n",
        "Simulation interval    : 0.0 - 15.0 seconds.\n",
        "Elapsed simulation time: 9.40432906151 seconds.\n",
        " Integrator time: 8.758333e+00"
       ]
      },
      {
       "output_type": "stream",
       "stream": "stdout",
       "text": [
        "\r"
       ]
      },
      {
       "output_type": "stream",
       "stream": "stdout",
       "text": [
        "Final Run Statistics: --- \n",
        "\n",
        " Number of steps                                 : 30244\n",
        " Number of function evaluations                  : 67289\n",
        " Number of Jacobian evaluations                  : 2700\n",
        " Number of function eval. due to Jacobian eval.  : 5400\n",
        " Number of error test failures                   : 8636\n",
        " Number of nonlinear iterations                  : 56489\n",
        " Number of nonlinear convergence failures        : 0\n",
        " Number of state function evaluations            : 72419\n",
        " Number of state events                          : 2699\n",
        "\n",
        "Solver options:\n",
        "\n",
        " Solver                   : CVode\n",
        " Linear multistep method  : BDF\n",
        " Nonlinear solver         : Newton\n",
        " Linear solver type       : DENSE\n",
        " Maximal order            : 5\n",
        " Tolerances (absolute)    : 1e-08\n",
        " Tolerances (relative)    : 1e-06\n",
        "\n",
        "Simulation interval    : 0.0 - 15.0 seconds.\n",
        "Elapsed simulation time: 16.4441459179 seconds.\n",
        " Integrator time: 2.579167e+00"
       ]
      },
      {
       "output_type": "stream",
       "stream": "stdout",
       "text": [
        "\r"
       ]
      },
      {
       "output_type": "stream",
       "stream": "stdout",
       "text": [
        " Integrator time: 2.579210e+00\r"
       ]
      },
      {
       "output_type": "stream",
       "stream": "stdout",
       "text": [
        " Integrator time: 6.971899e+00\r"
       ]
      },
      {
       "output_type": "stream",
       "stream": "stdout",
       "text": [
        " Integrator time: 1.321250e+01\r"
       ]
      },
      {
       "output_type": "stream",
       "stream": "stdout",
       "text": [
        "Final Run Statistics: --- \n",
        "\n",
        " Number of steps                                 : 51172\n",
        " Number of function evaluations                  : 94585\n",
        " Number of Jacobian evaluations                  : 3602\n",
        " Number of function eval. due to Jacobian eval.  : 7204\n",
        " Number of error test failures                   : 8731\n",
        " Number of nonlinear iterations                  : 80181\n",
        " Number of nonlinear convergence failures        : 0\n",
        " Number of state function evaluations            : 86169\n",
        " Number of state events                          : 3600\n",
        "\n",
        "Solver options:\n",
        "\n",
        " Solver                   : CVode\n",
        " Linear multistep method  : BDF\n",
        " Nonlinear solver         : Newton\n",
        " Linear solver type       : DENSE\n",
        " Maximal order            : 5\n",
        " Tolerances (absolute)    : 1e-08\n",
        " Tolerances (relative)    : 1e-06\n",
        "\n",
        "Simulation interval    : 0.0 - 15.0 seconds.\n",
        "Elapsed simulation time: 43.5682079792 seconds.\n"
       ]
      }
     ],
     "prompt_number": 13
    },
    {
     "cell_type": "code",
     "collapsed": false,
     "input": [
      "plot_results(responses)"
     ],
     "language": "python",
     "metadata": {},
     "outputs": [
      {
       "metadata": {},
       "output_type": "display_data",
       "png": "[encoded data removed]",
       "text": [
        "<matplotlib.figure.Figure at 0x7fabd343dc90>"
       ]
      },
      {
       "metadata": {},
       "output_type": "display_data",
       "png": "[encoded data removed]",
       "text": [
        "<matplotlib.figure.Figure at 0x7fabd343d050>"
       ]
      }
     ],
     "prompt_number": 14
    },
    {
     "cell_type": "code",
     "collapsed": false,
     "input": [
      "sine_response = responses.iloc[0]\n",
      "square_response = responses.iloc[1]\n",
      "sawtooth_response = responses.iloc[2]\n",
      "triangle_response = responses.iloc[3]"
     ],
     "language": "python",
     "metadata": {},
     "outputs": [],
     "prompt_number": 15
    },
    {
     "cell_type": "code",
     "collapsed": false,
     "input": [
      "root_directory_name = '/home/sswaminathan/olin_share/ModSim/ModSimProjects/Project2/'"
     ],
     "language": "python",
     "metadata": {},
     "outputs": [],
     "prompt_number": 16
    },
    {
     "cell_type": "code",
     "collapsed": false,
     "input": [
      "sine_response['Vout'].to_csv(root_directory_name + 'FMUSimSineWaveData_Vout.csv')\n",
      "sine_response['I'].to_csv(root_directory_name + 'FMUSimSineWaveData_I.csv')\n",
      "\n",
      "square_response['Vout'].to_csv(root_directory_name + 'FMUSimSquareWaveData_Vout.csv')\n",
      "square_response['I'].to_csv(root_directory_name + 'FMUSimSquareWaveData_I.csv')\n",
      "\n",
      "sawtooth_response['Vout'].to_csv(root_directory_name + 'FMUSimSawtoothWaveData_Vout.csv')\n",
      "sawtooth_response['I'].to_csv(root_directory_name + 'FMUSimSawtoothWaveData_I.csv')\n",
      "\n",
      "triangle_response['Vout'].to_csv(root_directory_name + 'FMUSimTriangleWaveData_Vout.csv')\n",
      "triangle_response['I'].to_csv(root_directory_name + 'FMUSimTriangleWaveData_I.csv')"
     ],
     "language": "python",
     "metadata": {},
     "outputs": [],
     "prompt_number": 17
    },
    {
     "cell_type": "code",
     "collapsed": false,
     "input": [],
     "language": "python",
     "metadata": {},
     "outputs": []
    }
   ],
   "metadata": {}
  }
 ]
}